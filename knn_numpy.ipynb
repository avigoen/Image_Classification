{
 "cells": [
  {
   "cell_type": "code",
   "execution_count": 7,
   "metadata": {},
   "outputs": [],
   "source": [
    "import numpy as np\n",
    "from scipy.spatial import distance\n",
    "from sklearn.metrics import accuracy_score, f1_score\n",
    "\n",
    "from dataset import get_2D_normalised, get_dimensionlly_reduced"
   ]
  },
  {
   "cell_type": "code",
   "execution_count": 8,
   "metadata": {},
   "outputs": [],
   "source": [
    "class KNN:\n",
    "    def __init__(self, k):\n",
    "        self.k = k\n",
    "\n",
    "    def fit(self, X, y):\n",
    "        self.X_train = X\n",
    "        self.y_train = y\n",
    "\n",
    "    def predict(self, X):\n",
    "        y_pred = []\n",
    "\n",
    "        for x in X:\n",
    "            distances = distance.cdist([x], self.X_train, metric='euclidean')[0]\n",
    "            k_nearest_indices = np.argpartition(distances, self.k)[:self.k]\n",
    "            k_nearest_labels = self.y_train[k_nearest_indices]\n",
    "            unique_labels, counts = np.unique(k_nearest_labels, return_counts=True)\n",
    "            most_common = unique_labels[np.argmax(counts)]\n",
    "            y_pred.append(most_common)\n",
    "\n",
    "        return np.array(y_pred)"
   ]
  },
  {
   "attachments": {},
   "cell_type": "markdown",
   "metadata": {},
   "source": [
    "# Without PCA"
   ]
  },
  {
   "cell_type": "code",
   "execution_count": 9,
   "metadata": {},
   "outputs": [],
   "source": [
    "(x_train_wo_pca, y_train_wo_pca), (x_test_wo_pca, y_test_wo_pca) = get_2D_normalised()"
   ]
  },
  {
   "cell_type": "code",
   "execution_count": 10,
   "metadata": {},
   "outputs": [],
   "source": [
    "knn_wo_pca = KNN(5)\n",
    "knn_wo_pca.fit(x_train_wo_pca, y_train_wo_pca)"
   ]
  },
  {
   "cell_type": "code",
   "execution_count": 12,
   "metadata": {},
   "outputs": [],
   "source": [
    "y_pred_wo_pca = knn_wo_pca.predict(x_test_wo_pca)"
   ]
  },
  {
   "cell_type": "code",
   "execution_count": 14,
   "metadata": {},
   "outputs": [],
   "source": [
    "accuracy_wo_pca = accuracy_score(y_test_wo_pca, y_pred_wo_pca)"
   ]
  },
  {
   "cell_type": "code",
   "execution_count": 15,
   "metadata": {},
   "outputs": [
    {
     "name": "stdout",
     "output_type": "stream",
     "text": [
      "Accuracy without PCA:  0.3398\n"
     ]
    }
   ],
   "source": [
    "print(\"Accuracy without PCA: \", accuracy_wo_pca)"
   ]
  },
  {
   "attachments": {},
   "cell_type": "markdown",
   "metadata": {},
   "source": [
    "# With PCA"
   ]
  },
  {
   "cell_type": "code",
   "execution_count": 21,
   "metadata": {},
   "outputs": [],
   "source": [
    "(x_train_w_pca, y_train_w_pca), (x_test_w_pca, y_test_w_pca) = get_dimensionlly_reduced(components=1024, needed=128)"
   ]
  },
  {
   "cell_type": "code",
   "execution_count": 22,
   "metadata": {},
   "outputs": [],
   "source": [
    "knn_w_pca = KNN(5)\n",
    "knn_w_pca.fit(x_train_w_pca, y_train_w_pca)"
   ]
  },
  {
   "cell_type": "code",
   "execution_count": 23,
   "metadata": {},
   "outputs": [],
   "source": [
    "y_pred_w_pca = knn_w_pca.predict(x_test_w_pca)"
   ]
  },
  {
   "cell_type": "code",
   "execution_count": 24,
   "metadata": {},
   "outputs": [],
   "source": [
    "accuracy_w_pca = accuracy_score(y_test_w_pca, y_pred_w_pca)"
   ]
  },
  {
   "cell_type": "code",
   "execution_count": 25,
   "metadata": {},
   "outputs": [
    {
     "name": "stdout",
     "output_type": "stream",
     "text": [
      "Accuracy with PCA:  0.3764\n"
     ]
    }
   ],
   "source": [
    "print(\"Accuracy with PCA: \", accuracy_w_pca)"
   ]
  },
  {
   "cell_type": "code",
   "execution_count": null,
   "metadata": {},
   "outputs": [],
   "source": []
  }
 ],
 "metadata": {
  "kernelspec": {
   "display_name": "base",
   "language": "python",
   "name": "python3"
  },
  "language_info": {
   "codemirror_mode": {
    "name": "ipython",
    "version": 3
   },
   "file_extension": ".py",
   "mimetype": "text/x-python",
   "name": "python",
   "nbconvert_exporter": "python",
   "pygments_lexer": "ipython3",
   "version": "3.9.12"
  },
  "orig_nbformat": 4
 },
 "nbformat": 4,
 "nbformat_minor": 2
}

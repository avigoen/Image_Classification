{
 "cells": [
  {
   "cell_type": "code",
   "execution_count": 1,
   "metadata": {},
   "outputs": [
    {
     "name": "stderr",
     "output_type": "stream",
     "text": [
      "c:\\ProgramData\\Anaconda3\\lib\\site-packages\\requests\\__init__.py:102: RequestsDependencyWarning: urllib3 (1.26.9) or chardet (5.1.0)/charset_normalizer (2.0.4) doesn't match a supported version!\n",
      "  warnings.warn(\"urllib3 ({}) or chardet ({})/charset_normalizer ({}) doesn't match a supported \"\n"
     ]
    }
   ],
   "source": [
    "import numpy as np\n",
    "\n",
    "from dataset import get_2D_normalised, get_dimensionlly_reduced"
   ]
  },
  {
   "cell_type": "code",
   "execution_count": 2,
   "metadata": {},
   "outputs": [],
   "source": [
    "class SoftmaxClassifier:\n",
    "    def __init__(self, learning_rate=0.001, num_iterations=1000, batch_size=32):\n",
    "        self.learning_rate = learning_rate\n",
    "        self.num_iterations = num_iterations\n",
    "        self.batch_size = batch_size\n",
    "        self.weights = None\n",
    "        self.bias = None\n",
    "\n",
    "    def fit(self, X, y):\n",
    "        n_samples, n_features = X.shape\n",
    "        n_classes = np.max(y) + 1\n",
    "\n",
    "        # Initialize weights and bias\n",
    "        self.weights = np.zeros((n_features, n_classes))\n",
    "        self.bias = np.zeros(n_classes)\n",
    "\n",
    "        # Gradient descent optimization\n",
    "        for _ in range(self.num_iterations):\n",
    "            # Shuffle the data\n",
    "            indices = np.random.permutation(n_samples)\n",
    "            X_shuffled = X[indices]\n",
    "            y_shuffled = y[indices]\n",
    "\n",
    "            # Mini-batch training\n",
    "            for i in range(0, n_samples, self.batch_size):\n",
    "                X_batch = X_shuffled[i:i + self.batch_size]\n",
    "                y_batch = y_shuffled[i:i + self.batch_size]\n",
    "\n",
    "                # Compute scores\n",
    "                scores = np.dot(X_batch, self.weights) + self.bias\n",
    "\n",
    "                # Apply softmax function\n",
    "                exp_scores = np.exp(scores)\n",
    "                probabilities = exp_scores / np.sum(exp_scores, axis=1, keepdims=True)\n",
    "\n",
    "                # Compute gradients\n",
    "                dW = (1 / self.batch_size) * np.dot(X_batch.T, (probabilities - np.eye(n_classes)[y_batch]))\n",
    "                db = (1 / self.batch_size) * np.sum(probabilities - np.eye(n_classes)[y_batch], axis=0)\n",
    "\n",
    "                # Update parameters\n",
    "                self.weights -= self.learning_rate * dW\n",
    "                self.bias -= self.learning_rate * db\n",
    "\n",
    "    def predict(self, X):\n",
    "        scores = np.dot(X, self.weights) + self.bias\n",
    "        probabilities = np.exp(scores) / np.sum(np.exp(scores), axis=1, keepdims=True)\n",
    "        return np.argmax(probabilities, axis=1)"
   ]
  },
  {
   "attachments": {},
   "cell_type": "markdown",
   "metadata": {},
   "source": [
    "# Without PCA"
   ]
  },
  {
   "cell_type": "code",
   "execution_count": 3,
   "metadata": {},
   "outputs": [],
   "source": [
    "(x_train_wo_pca, y_train_wo_pca), (x_test_wo_pca, y_test_wo_pca) = get_2D_normalised()"
   ]
  },
  {
   "cell_type": "code",
   "execution_count": 4,
   "metadata": {},
   "outputs": [],
   "source": [
    "softmax_classifier_wo_pca = SoftmaxClassifier(learning_rate=0.001, num_iterations=1000, batch_size=32)\n",
    "softmax_classifier_wo_pca.fit(x_train_wo_pca, y_train_wo_pca)"
   ]
  },
  {
   "cell_type": "code",
   "execution_count": 5,
   "metadata": {},
   "outputs": [],
   "source": [
    "predictions_wo_pca = softmax_classifier_wo_pca.predict(x_test_wo_pca)"
   ]
  },
  {
   "cell_type": "code",
   "execution_count": 6,
   "metadata": {},
   "outputs": [
    {
     "name": "stdout",
     "output_type": "stream",
     "text": [
      "Accuracy without PCA: 38.41%\n"
     ]
    }
   ],
   "source": [
    "accuracy_wo_pca = np.mean(predictions_wo_pca == y_test_wo_pca) * 100\n",
    "print(f\"Accuracy without PCA: {accuracy_wo_pca:.2f}%\")"
   ]
  },
  {
   "attachments": {},
   "cell_type": "markdown",
   "metadata": {},
   "source": [
    "# With PCA"
   ]
  },
  {
   "cell_type": "code",
   "execution_count": 7,
   "metadata": {},
   "outputs": [],
   "source": [
    "(x_train_w_pca, y_train_w_pca), (x_test_w_pca, y_test_w_pca) = get_dimensionlly_reduced(components=128, needed=128)\n"
   ]
  },
  {
   "cell_type": "code",
   "execution_count": 8,
   "metadata": {},
   "outputs": [],
   "source": [
    "softmax_classifier_w_pca = SoftmaxClassifier(learning_rate=0.001, num_iterations=1000, batch_size=32)\n",
    "softmax_classifier_w_pca.fit(x_train_w_pca, y_train_w_pca)"
   ]
  },
  {
   "cell_type": "code",
   "execution_count": 9,
   "metadata": {},
   "outputs": [],
   "source": [
    "predictions_w_pca = softmax_classifier_w_pca.predict(x_test_w_pca)"
   ]
  },
  {
   "cell_type": "code",
   "execution_count": 10,
   "metadata": {},
   "outputs": [
    {
     "name": "stdout",
     "output_type": "stream",
     "text": [
      "Accuracy with PCA: 39.96%\n"
     ]
    }
   ],
   "source": [
    "accuracy_w_pca = np.mean(predictions_w_pca == y_test_w_pca) * 100\n",
    "print(f\"Accuracy with PCA: {accuracy_w_pca:.2f}%\")"
   ]
  },
  {
   "cell_type": "code",
   "execution_count": null,
   "metadata": {},
   "outputs": [],
   "source": []
  }
 ],
 "metadata": {
  "kernelspec": {
   "display_name": "base",
   "language": "python",
   "name": "python3"
  },
  "language_info": {
   "codemirror_mode": {
    "name": "ipython",
    "version": 3
   },
   "file_extension": ".py",
   "mimetype": "text/x-python",
   "name": "python",
   "nbconvert_exporter": "python",
   "pygments_lexer": "ipython3",
   "version": "3.9.12"
  },
  "orig_nbformat": 4
 },
 "nbformat": 4,
 "nbformat_minor": 2
}

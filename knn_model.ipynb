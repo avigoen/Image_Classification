{
 "cells": [
  {
   "cell_type": "code",
   "execution_count": 2,
   "metadata": {},
   "outputs": [
    {
     "name": "stderr",
     "output_type": "stream",
     "text": [
      "c:\\ProgramData\\Anaconda3\\lib\\site-packages\\requests\\__init__.py:102: RequestsDependencyWarning: urllib3 (1.26.9) or chardet (5.1.0)/charset_normalizer (2.0.4) doesn't match a supported version!\n",
      "  warnings.warn(\"urllib3 ({}) or chardet ({})/charset_normalizer ({}) doesn't match a supported \"\n"
     ]
    }
   ],
   "source": [
    "import numpy as np\n",
    "import pandas as pd\n",
    "\n",
    "from sklearn.neighbors import KNeighborsClassifier\n",
    "from sklearn.model_selection import cross_val_score\n",
    "from sklearn.metrics import accuracy_score\n",
    "\n",
    "from dataset import get_2D_normalised, get_dimensionlly_reduced"
   ]
  },
  {
   "cell_type": "code",
   "execution_count": 3,
   "metadata": {},
   "outputs": [],
   "source": [
    "%load_ext autoreload\n",
    "%autoreload 2"
   ]
  },
  {
   "cell_type": "code",
   "execution_count": 4,
   "metadata": {},
   "outputs": [],
   "source": [
    "(x_train, y_train), (x_test, y_test) = get_2D_normalised()"
   ]
  },
  {
   "attachments": {},
   "cell_type": "markdown",
   "metadata": {},
   "source": [
    "# Dimensionality Reduction using PCA for better distance calculations"
   ]
  },
  {
   "cell_type": "code",
   "execution_count": 8,
   "metadata": {},
   "outputs": [],
   "source": [
    "(X_train_pca, y_train), (X_test_pca, y_test) = get_dimensionlly_reduced(needed=80, components=100)"
   ]
  },
  {
   "attachments": {},
   "cell_type": "markdown",
   "metadata": {},
   "source": [
    "# K-Nearest Neighbour Classifier"
   ]
  },
  {
   "cell_type": "code",
   "execution_count": 9,
   "metadata": {},
   "outputs": [],
   "source": [
    "ks = [1, 3, 5, 7, 9] # try different k values\n",
    "\n",
    "all_ks = ks * 2\n",
    "mean_accs = []\n",
    "std_accs = []\n",
    "pca_run = [0, 0, 0, 0, 0, 1, 1, 1, 1, 1]"
   ]
  },
  {
   "attachments": {},
   "cell_type": "markdown",
   "metadata": {},
   "source": [
    "## Before PCA"
   ]
  },
  {
   "cell_type": "code",
   "execution_count": 10,
   "metadata": {},
   "outputs": [
    {
     "name": "stdout",
     "output_type": "stream",
     "text": [
      "k = 1 mean accuracy: 0.33836 std accuracy: 0.005874214841151108\n",
      "k = 3 mean accuracy: 0.34474 std accuracy: 0.005793306482484758\n",
      "k = 5 mean accuracy: 0.34818 std accuracy: 0.002454709758810595\n",
      "k = 7 mean accuracy: 0.34796 std accuracy: 0.00534176000958485\n",
      "k = 9 mean accuracy: 0.34644 std accuracy: 0.0069442350190643655\n"
     ]
    }
   ],
   "source": [
    "for k in ks:\n",
    "    model = KNeighborsClassifier(n_neighbors=k, weights='distance', n_jobs=-1)\n",
    "\n",
    "    # Perform 5-fold cross-validation\n",
    "    scores = cross_val_score(model, x_train, y_train, cv=5)\n",
    "\n",
    "    # Print the mean and standard deviation of the validation accuracy\n",
    "    print(\"k =\", k, \"mean accuracy:\", np.mean(scores), \"std accuracy:\", np.std(scores))\n",
    "    mean_accs.append(np.mean(scores))\n",
    "    std_accs.append(np.std(scores))"
   ]
  },
  {
   "attachments": {},
   "cell_type": "markdown",
   "metadata": {},
   "source": [
    "## After PCA"
   ]
  },
  {
   "cell_type": "code",
   "execution_count": 11,
   "metadata": {},
   "outputs": [
    {
     "name": "stdout",
     "output_type": "stream",
     "text": [
      "k = 1 mean accuracy: 0.37896 std accuracy: 0.007948987356890189\n",
      "k = 3 mean accuracy: 0.38992 std accuracy: 0.00801408759622703\n",
      "k = 5 mean accuracy: 0.39571999999999996 std accuracy: 0.005049118734987324\n",
      "k = 7 mean accuracy: 0.39744 std accuracy: 0.005541335579081995\n",
      "k = 9 mean accuracy: 0.39702000000000004 std accuracy: 0.005059011761203958\n"
     ]
    }
   ],
   "source": [
    "for k in ks:\n",
    "    model = KNeighborsClassifier(n_neighbors=k, weights='distance', n_jobs=-1)\n",
    "\n",
    "    # Perform 5-fold cross-validation\n",
    "    scores = cross_val_score(model, X_train_pca, y_train, cv=5)\n",
    "\n",
    "    # Print the mean and standard deviation of the validation accuracy\n",
    "    print(\"k =\", k, \"mean accuracy:\", np.mean(scores), \"std accuracy:\", np.std(scores))\n",
    "    mean_accs.append(np.mean(scores))\n",
    "    std_accs.append(np.std(scores))"
   ]
  },
  {
   "cell_type": "code",
   "execution_count": 12,
   "metadata": {},
   "outputs": [],
   "source": [
    "df = pd.DataFrame({'K': all_ks, 'Mean': mean_accs, 'STD': std_accs, 'PCA': pca_run})\n",
    "best_result = df.sort_values(by='Mean', ascending=False).iloc[0]"
   ]
  },
  {
   "cell_type": "code",
   "execution_count": 17,
   "metadata": {},
   "outputs": [],
   "source": [
    "neighbors = int(best_result['K'])\n",
    "X_TRAIN = X_train_pca if best_result['PCA'] == 1 else x_train\n",
    "X_TEST = X_test_pca if best_result['PCA'] == 1 else x_test"
   ]
  },
  {
   "attachments": {},
   "cell_type": "markdown",
   "metadata": {},
   "source": [
    "### Before and After PCA, we can see that the dimensionality reduction worked well with `k=7`"
   ]
  },
  {
   "cell_type": "code",
   "execution_count": 18,
   "metadata": {},
   "outputs": [
    {
     "data": {
      "text/plain": [
       "KNeighborsClassifier(n_jobs=-1, n_neighbors=7, weights='distance')"
      ]
     },
     "execution_count": 18,
     "metadata": {},
     "output_type": "execute_result"
    }
   ],
   "source": [
    "knn_model = KNeighborsClassifier(n_neighbors=neighbors, weights='distance', n_jobs=-1)\n",
    "knn_model.fit(X_TRAIN, y_train.ravel())"
   ]
  },
  {
   "cell_type": "code",
   "execution_count": 19,
   "metadata": {},
   "outputs": [
    {
     "name": "stdout",
     "output_type": "stream",
     "text": [
      "Accuracy: 0.4047\n"
     ]
    }
   ],
   "source": [
    "y_pred = knn_model.predict(X_TEST)\n",
    "\n",
    "# Evaluate the performance of the KNN model on the test set\n",
    "accuracy = accuracy_score(y_test, y_pred)\n",
    "print(\"Accuracy:\", accuracy)"
   ]
  },
  {
   "cell_type": "code",
   "execution_count": null,
   "metadata": {},
   "outputs": [],
   "source": []
  }
 ],
 "metadata": {
  "kernelspec": {
   "display_name": "base",
   "language": "python",
   "name": "python3"
  },
  "language_info": {
   "codemirror_mode": {
    "name": "ipython",
    "version": 3
   },
   "file_extension": ".py",
   "mimetype": "text/x-python",
   "name": "python",
   "nbconvert_exporter": "python",
   "pygments_lexer": "ipython3",
   "version": "3.9.12"
  },
  "orig_nbformat": 4
 },
 "nbformat": 4,
 "nbformat_minor": 2
}

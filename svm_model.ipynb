{
 "cells": [
  {
   "cell_type": "code",
   "execution_count": 1,
   "metadata": {},
   "outputs": [
    {
     "name": "stderr",
     "output_type": "stream",
     "text": [
      "c:\\ProgramData\\Anaconda3\\lib\\site-packages\\requests\\__init__.py:102: RequestsDependencyWarning: urllib3 (1.26.9) or chardet (5.1.0)/charset_normalizer (2.0.4) doesn't match a supported version!\n",
      "  warnings.warn(\"urllib3 ({}) or chardet ({})/charset_normalizer ({}) doesn't match a supported \"\n"
     ]
    }
   ],
   "source": [
    "from sklearn.svm import SVC\n",
    "from sklearn.multiclass import OneVsRestClassifier\n",
    "from sklearn.model_selection import GridSearchCV\n",
    "from sklearn.metrics import accuracy_score\n",
    "\n",
    "from dataset import get_dimensionlly_reduced"
   ]
  },
  {
   "cell_type": "code",
   "execution_count": 2,
   "metadata": {},
   "outputs": [],
   "source": [
    "%load_ext autoreload\n",
    "%autoreload 2"
   ]
  },
  {
   "cell_type": "code",
   "execution_count": 3,
   "metadata": {},
   "outputs": [],
   "source": [
    "(X_train_pca, y_train), (X_test_pca, y_test) = get_dimensionlly_reduced(needed=80, components=100)"
   ]
  },
  {
   "cell_type": "code",
   "execution_count": 5,
   "metadata": {},
   "outputs": [
    {
     "name": "stdout",
     "output_type": "stream",
     "text": [
      "Fitting 2 folds for each of 9 candidates, totalling 18 fits\n",
      "[CV 1/2] END estimator__C=0.1, estimator__kernel=linear;, score=0.315 total time= 1.9min\n",
      "[CV 2/2] END estimator__C=0.1, estimator__kernel=linear;, score=0.317 total time= 1.9min\n",
      "[CV 1/2] END estimator__C=0.1, estimator__kernel=rbf;, score=0.491 total time= 4.2min\n",
      "[CV 2/2] END estimator__C=0.1, estimator__kernel=rbf;, score=0.481 total time= 4.2min\n",
      "[CV 1/2] END estimator__C=0.1, estimator__kernel=poly;, score=0.436 total time= 3.1min\n",
      "[CV 2/2] END estimator__C=0.1, estimator__kernel=poly;, score=0.435 total time= 3.1min\n"
     ]
    }
   ],
   "source": [
    "# Define a range of values for C to search over\n",
    "param_grid = {'estimator__kernel': ['linear', 'rbf', 'poly']}\n",
    "\n",
    "# Initialize an SVM classifier\n",
    "svm = OneVsRestClassifier(estimator=SVC(C=0.1), n_jobs=-1)\n",
    "\n",
    "# Perform a grid search over different values of C using 5-fold cross-validation\n",
    "grid_search = GridSearchCV(svm, param_grid, cv=2, verbose=5)\n",
    "grid_search.fit(X_train_pca, y_train)"
   ]
  },
  {
   "attachments": {},
   "cell_type": "markdown",
   "metadata": {},
   "source": [
    "From above, we can see that for `C=0.1`, the best kernel is `rbf`"
   ]
  },
  {
   "cell_type": "code",
   "execution_count": 4,
   "metadata": {},
   "outputs": [
    {
     "data": {
      "text/plain": [
       "OneVsRestClassifier(estimator=SVC(C=0.1), n_jobs=-1)"
      ]
     },
     "execution_count": 4,
     "metadata": {},
     "output_type": "execute_result"
    }
   ],
   "source": [
    "svm = OneVsRestClassifier(estimator=SVC(C=0.1, kernel='rbf'), n_jobs=-1, )\n",
    "svm.fit(X_train_pca, y_train)"
   ]
  },
  {
   "cell_type": "code",
   "execution_count": 5,
   "metadata": {},
   "outputs": [
    {
     "name": "stdout",
     "output_type": "stream",
     "text": [
      "Accuracy: 0.5015\n"
     ]
    }
   ],
   "source": [
    "y_pred = svm.predict(X_test_pca)\n",
    "\n",
    "# Evaluate the performance of the KNN model on the test set\n",
    "accuracy = accuracy_score(y_test, y_pred)\n",
    "print(\"Accuracy:\", accuracy)"
   ]
  },
  {
   "cell_type": "code",
   "execution_count": null,
   "metadata": {},
   "outputs": [],
   "source": []
  }
 ],
 "metadata": {
  "kernelspec": {
   "display_name": "base",
   "language": "python",
   "name": "python3"
  },
  "language_info": {
   "codemirror_mode": {
    "name": "ipython",
    "version": 3
   },
   "file_extension": ".py",
   "mimetype": "text/x-python",
   "name": "python",
   "nbconvert_exporter": "python",
   "pygments_lexer": "ipython3",
   "version": "3.9.12"
  },
  "orig_nbformat": 4
 },
 "nbformat": 4,
 "nbformat_minor": 2
}
